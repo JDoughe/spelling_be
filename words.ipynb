{
 "cells": [
  {
   "cell_type": "code",
   "execution_count": 54,
   "id": "7f284bcb-c57a-4587-815e-26cd54b5b4f1",
   "metadata": {},
   "outputs": [],
   "source": [
    "import pandas as pd\n",
    "from english_words import get_english_words_set"
   ]
  },
  {
   "cell_type": "code",
   "execution_count": 137,
   "id": "bdc03862-08ec-4693-bcde-93f6133b68ae",
   "metadata": {},
   "outputs": [],
   "source": [
    "#df = pd.read_csv('words.txt',on_bad_lines='skip')\n",
    "#all_words = df.squeeze(axis=1).tolist()\n",
    "all_words = list(get_english_words_set(['web2']))\n",
    "aw2 = list(get_english_words_set(['gcide']))"
   ]
  },
  {
   "cell_type": "code",
   "execution_count": 136,
   "id": "49fcc40f-316c-4000-9606-dc08100d49c8",
   "metadata": {},
   "outputs": [
    {
     "data": {
      "text/plain": [
       "NoneType"
      ]
     },
     "execution_count": 136,
     "metadata": {},
     "output_type": "execute_result"
    }
   ],
   "source": [
    "type(all_words)"
   ]
  },
  {
   "cell_type": "code",
   "execution_count": 141,
   "id": "8fc5768e-e560-4592-a863-b480c2ff0688",
   "metadata": {},
   "outputs": [
    {
     "data": {
      "text/plain": [
       "351295"
      ]
     },
     "execution_count": 141,
     "metadata": {},
     "output_type": "execute_result"
    }
   ],
   "source": [
    "len(all_words)"
   ]
  },
  {
   "cell_type": "code",
   "execution_count": 110,
   "id": "eb6fa46f-32a6-47d3-9534-7599257d41b4",
   "metadata": {},
   "outputs": [],
   "source": [
    "all_words = all_words.append(list(get_english_words_set(['gcide'])))"
   ]
  },
  {
   "cell_type": "code",
   "execution_count": 111,
   "id": "2964460c-202d-4619-97e5-3eba5906b7a3",
   "metadata": {},
   "outputs": [
    {
     "ename": "TypeError",
     "evalue": "object of type 'NoneType' has no len()",
     "output_type": "error",
     "traceback": [
      "\u001b[0;31m---------------------------------------------------------------------------\u001b[0m",
      "\u001b[0;31mTypeError\u001b[0m                                 Traceback (most recent call last)",
      "Input \u001b[0;32mIn [111]\u001b[0m, in \u001b[0;36m<cell line: 1>\u001b[0;34m()\u001b[0m\n\u001b[0;32m----> 1\u001b[0m \u001b[38;5;28;43mlen\u001b[39;49m\u001b[43m(\u001b[49m\u001b[43mall_words\u001b[49m\u001b[43m)\u001b[49m\n",
      "\u001b[0;31mTypeError\u001b[0m: object of type 'NoneType' has no len()"
     ]
    }
   ],
   "source": [
    "len(all_words)"
   ]
  },
  {
   "cell_type": "code",
   "execution_count": 86,
   "id": "85419cea-0877-40e4-8196-5ab1fff1c04c",
   "metadata": {},
   "outputs": [
    {
     "ename": "TypeError",
     "evalue": "'NoneType' object is not iterable",
     "output_type": "error",
     "traceback": [
      "\u001b[0;31m---------------------------------------------------------------------------\u001b[0m",
      "\u001b[0;31mTypeError\u001b[0m                                 Traceback (most recent call last)",
      "Input \u001b[0;32mIn [86]\u001b[0m, in \u001b[0;36m<cell line: 15>\u001b[0;34m()\u001b[0m\n\u001b[1;32m     14\u001b[0m     letters \u001b[38;5;241m=\u001b[39m [letter \u001b[38;5;28;01mfor\u001b[39;00m letter \u001b[38;5;129;01min\u001b[39;00m letters \u001b[38;5;28;01mif\u001b[39;00m all_spelling_bee[num] \u001b[38;5;129;01mnot\u001b[39;00m \u001b[38;5;129;01min\u001b[39;00m letter]\n\u001b[1;32m     15\u001b[0m \u001b[38;5;28;01mfor\u001b[39;00m item \u001b[38;5;129;01min\u001b[39;00m letters:\n\u001b[0;32m---> 16\u001b[0m     all_words \u001b[38;5;241m=\u001b[39m [word \u001b[38;5;28;01mfor\u001b[39;00m word \u001b[38;5;129;01min\u001b[39;00m all_words \u001b[38;5;28;01mif\u001b[39;00m item\u001b[38;5;241m.\u001b[39mlower() \u001b[38;5;129;01mnot\u001b[39;00m \u001b[38;5;129;01min\u001b[39;00m \u001b[38;5;28mstr\u001b[39m(word)\u001b[38;5;241m.\u001b[39mlower() \u001b[38;5;129;01mand\u001b[39;00m \u001b[38;5;28mlen\u001b[39m(\u001b[38;5;28mstr\u001b[39m(word))\u001b[38;5;241m>\u001b[39m\u001b[38;5;241m3\u001b[39m]\n\u001b[1;32m     17\u001b[0m \u001b[38;5;28;01mfor\u001b[39;00m word \u001b[38;5;129;01min\u001b[39;00m all_words:\n\u001b[1;32m     18\u001b[0m     aw \u001b[38;5;241m=\u001b[39m [word \u001b[38;5;28;01mfor\u001b[39;00m word \u001b[38;5;129;01min\u001b[39;00m all_words \u001b[38;5;28;01mif\u001b[39;00m \u001b[38;5;28;01mFalse\u001b[39;00m \u001b[38;5;241m==\u001b[39m word\u001b[38;5;241m.\u001b[39misupper()]\n",
      "\u001b[0;31mTypeError\u001b[0m: 'NoneType' object is not iterable"
     ]
    }
   ],
   "source": [
    "all_spelling_bee = ['a','l','d','o','m','r','u']\n",
    "primary = 'u'\n",
    "letters = ['a','b','c',\n",
    "           'd','e','f',\n",
    "           'g','h','i',\n",
    "           'j','k','l',\n",
    "           'n','m','o',\n",
    "           'p','q','r',\n",
    "           's','t','u',\n",
    "           'v','w','x',\n",
    "           'y','z','.','1','2','3','-','0']\n",
    "\n",
    "for num in list(range(len(all_spelling_bee))):\n",
    "    letters = [letter for letter in letters if all_spelling_bee[num] not in letter]\n",
    "for item in letters:\n",
    "    all_words = [word for word in all_words if item.lower() not in str(word).lower() and len(str(word))>3]\n",
    "for word in all_words:\n",
    "    aw = [word for word in all_words if False == word.isupper()]\n",
    "\n",
    "final_aw = [word for word in aw if primary in word.lower()]\n",
    "panny_word = [word for word in all_words if primary in str(word)] \n",
    "pg = panny_word \n",
    "for letter in all_spelling_bee:\n",
    "    pg = [word for word in pg if str(letter) in str(word)]"
   ]
  },
  {
   "cell_type": "code",
   "execution_count": 77,
   "id": "79c03bf6-98ca-4974-95d6-5a4107a8200c",
   "metadata": {},
   "outputs": [
    {
     "data": {
      "text/plain": [
       "['modular']"
      ]
     },
     "execution_count": 77,
     "metadata": {},
     "output_type": "execute_result"
    }
   ],
   "source": [
    "pg"
   ]
  },
  {
   "cell_type": "code",
   "execution_count": 78,
   "id": "06907773-a473-433c-b51d-f0f493d3e5b9",
   "metadata": {},
   "outputs": [
    {
     "data": {
      "text/plain": [
       "134"
      ]
     },
     "execution_count": 78,
     "metadata": {},
     "output_type": "execute_result"
    }
   ],
   "source": [
    "len(final_aw)"
   ]
  },
  {
   "cell_type": "code",
   "execution_count": null,
   "id": "181a2248-36de-4b5c-b4bd-d66212dab817",
   "metadata": {},
   "outputs": [],
   "source": []
  }
 ],
 "metadata": {
  "kernelspec": {
   "display_name": "Python 3 (ipykernel)",
   "language": "python",
   "name": "python3"
  },
  "language_info": {
   "codemirror_mode": {
    "name": "ipython",
    "version": 3
   },
   "file_extension": ".py",
   "mimetype": "text/x-python",
   "name": "python",
   "nbconvert_exporter": "python",
   "pygments_lexer": "ipython3",
   "version": "3.9.12"
  }
 },
 "nbformat": 4,
 "nbformat_minor": 5
}
